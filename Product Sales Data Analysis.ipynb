{
 "cells": [
  {
   "cell_type": "code",
   "execution_count": 1,
   "metadata": {},
   "outputs": [],
   "source": [
    "import numpy as np\n",
    "import pandas as pd\n",
    "import matplotlib.pyplot as plt\n",
    "import seaborn as sns"
   ]
  },
  {
   "cell_type": "code",
   "execution_count": 2,
   "metadata": {},
   "outputs": [],
   "source": [
    "sales = pd.read_csv(r'C:\\Users\\Urvashi\\Desktop\\Urvashi\\Career\\Study Notes\\All_Notes\\Projects\\7-Data_Science_Projects\\1-Data Analysis\\2-Analyze Retail Sales\\vinodSales.csv')"
   ]
  },
  {
   "cell_type": "code",
   "execution_count": 3,
   "metadata": {},
   "outputs": [
    {
     "data": {
      "text/html": [
       "<div>\n",
       "<style scoped>\n",
       "    .dataframe tbody tr th:only-of-type {\n",
       "        vertical-align: middle;\n",
       "    }\n",
       "\n",
       "    .dataframe tbody tr th {\n",
       "        vertical-align: top;\n",
       "    }\n",
       "\n",
       "    .dataframe thead th {\n",
       "        text-align: right;\n",
       "    }\n",
       "</style>\n",
       "<table border=\"1\" class=\"dataframe\">\n",
       "  <thead>\n",
       "    <tr style=\"text-align: right;\">\n",
       "      <th></th>\n",
       "      <th>product_code</th>\n",
       "      <th>customer_code</th>\n",
       "      <th>custmer_name</th>\n",
       "      <th>customer_type</th>\n",
       "      <th>market_code</th>\n",
       "      <th>zone</th>\n",
       "      <th>markets_name</th>\n",
       "      <th>order_date</th>\n",
       "      <th>cy_date</th>\n",
       "      <th>year</th>\n",
       "      <th>month_name</th>\n",
       "      <th>date_yy_mmm</th>\n",
       "      <th>year.1</th>\n",
       "      <th>sales_amount</th>\n",
       "      <th>sales_qty</th>\n",
       "      <th>currency</th>\n",
       "      <th>product_type</th>\n",
       "    </tr>\n",
       "  </thead>\n",
       "  <tbody>\n",
       "    <tr>\n",
       "      <th>0</th>\n",
       "      <td>Prod001</td>\n",
       "      <td>Cus001</td>\n",
       "      <td>Surge Stores</td>\n",
       "      <td>Brick &amp; Mortar</td>\n",
       "      <td>Mark001</td>\n",
       "      <td>South</td>\n",
       "      <td>Chennai</td>\n",
       "      <td>10-10-2017</td>\n",
       "      <td>01-10-2017</td>\n",
       "      <td>2017</td>\n",
       "      <td>October</td>\n",
       "      <td>17-Oct\\r</td>\n",
       "      <td>2017</td>\n",
       "      <td>41241</td>\n",
       "      <td>100</td>\n",
       "      <td>INR</td>\n",
       "      <td>Own Brand\\r</td>\n",
       "    </tr>\n",
       "    <tr>\n",
       "      <th>1</th>\n",
       "      <td>Prod001</td>\n",
       "      <td>Cus002</td>\n",
       "      <td>Nomad Stores</td>\n",
       "      <td>Brick &amp; Mortar</td>\n",
       "      <td>Mark002</td>\n",
       "      <td>Central</td>\n",
       "      <td>Mumbai</td>\n",
       "      <td>08-05-2018</td>\n",
       "      <td>01-05-2018</td>\n",
       "      <td>2018</td>\n",
       "      <td>May</td>\n",
       "      <td>18-May\\r</td>\n",
       "      <td>2018</td>\n",
       "      <td>-1</td>\n",
       "      <td>3</td>\n",
       "      <td>INR</td>\n",
       "      <td>Own Brand\\r</td>\n",
       "    </tr>\n",
       "    <tr>\n",
       "      <th>2</th>\n",
       "      <td>Prod002</td>\n",
       "      <td>Cus003</td>\n",
       "      <td>Excel Stores</td>\n",
       "      <td>Brick &amp; Mortar</td>\n",
       "      <td>Mark003</td>\n",
       "      <td>North</td>\n",
       "      <td>Ahmedabad</td>\n",
       "      <td>06-04-2018</td>\n",
       "      <td>01-04-2018</td>\n",
       "      <td>2018</td>\n",
       "      <td>April</td>\n",
       "      <td>18-Apr\\r</td>\n",
       "      <td>2018</td>\n",
       "      <td>875</td>\n",
       "      <td>1</td>\n",
       "      <td>INR</td>\n",
       "      <td>Own Brand\\r</td>\n",
       "    </tr>\n",
       "    <tr>\n",
       "      <th>3</th>\n",
       "      <td>Prod002</td>\n",
       "      <td>Cus003</td>\n",
       "      <td>Excel Stores</td>\n",
       "      <td>Brick &amp; Mortar</td>\n",
       "      <td>Mark003</td>\n",
       "      <td>North</td>\n",
       "      <td>Ahmedabad</td>\n",
       "      <td>11-04-2018</td>\n",
       "      <td>01-04-2018</td>\n",
       "      <td>2018</td>\n",
       "      <td>April</td>\n",
       "      <td>18-Apr\\r</td>\n",
       "      <td>2018</td>\n",
       "      <td>583</td>\n",
       "      <td>1</td>\n",
       "      <td>INR</td>\n",
       "      <td>Own Brand\\r</td>\n",
       "    </tr>\n",
       "    <tr>\n",
       "      <th>4</th>\n",
       "      <td>Prod002</td>\n",
       "      <td>Cus004</td>\n",
       "      <td>Surface Stores</td>\n",
       "      <td>Brick &amp; Mortar</td>\n",
       "      <td>Mark003</td>\n",
       "      <td>North</td>\n",
       "      <td>Ahmedabad</td>\n",
       "      <td>18-06-2018</td>\n",
       "      <td>01-06-2018</td>\n",
       "      <td>2018</td>\n",
       "      <td>June</td>\n",
       "      <td>18-Jun\\r</td>\n",
       "      <td>2018</td>\n",
       "      <td>7176</td>\n",
       "      <td>6</td>\n",
       "      <td>INR</td>\n",
       "      <td>Own Brand\\r</td>\n",
       "    </tr>\n",
       "  </tbody>\n",
       "</table>\n",
       "</div>"
      ],
      "text/plain": [
       "  product_code customer_code    custmer_name   customer_type market_code  \\\n",
       "0      Prod001        Cus001    Surge Stores  Brick & Mortar     Mark001   \n",
       "1      Prod001        Cus002    Nomad Stores  Brick & Mortar     Mark002   \n",
       "2      Prod002        Cus003    Excel Stores  Brick & Mortar     Mark003   \n",
       "3      Prod002        Cus003    Excel Stores  Brick & Mortar     Mark003   \n",
       "4      Prod002        Cus004  Surface Stores  Brick & Mortar     Mark003   \n",
       "\n",
       "      zone markets_name  order_date     cy_date  year month_name date_yy_mmm  \\\n",
       "0    South      Chennai  10-10-2017  01-10-2017  2017    October    17-Oct\\r   \n",
       "1  Central       Mumbai  08-05-2018  01-05-2018  2018        May    18-May\\r   \n",
       "2    North    Ahmedabad  06-04-2018  01-04-2018  2018      April    18-Apr\\r   \n",
       "3    North    Ahmedabad  11-04-2018  01-04-2018  2018      April    18-Apr\\r   \n",
       "4    North    Ahmedabad  18-06-2018  01-06-2018  2018       June    18-Jun\\r   \n",
       "\n",
       "   year.1  sales_amount  sales_qty currency product_type  \n",
       "0    2017         41241        100      INR  Own Brand\\r  \n",
       "1    2018            -1          3      INR  Own Brand\\r  \n",
       "2    2018           875          1      INR  Own Brand\\r  \n",
       "3    2018           583          1      INR  Own Brand\\r  \n",
       "4    2018          7176          6      INR  Own Brand\\r  "
      ]
     },
     "execution_count": 3,
     "metadata": {},
     "output_type": "execute_result"
    }
   ],
   "source": [
    "sales.head()"
   ]
  },
  {
   "cell_type": "code",
   "execution_count": 4,
   "metadata": {},
   "outputs": [
    {
     "name": "stdout",
     "output_type": "stream",
     "text": [
      "<class 'pandas.core.frame.DataFrame'>\n",
      "RangeIndex: 95124 entries, 0 to 95123\n",
      "Data columns (total 17 columns):\n",
      "product_code     95124 non-null object\n",
      "customer_code    95124 non-null object\n",
      "custmer_name     95124 non-null object\n",
      "customer_type    95124 non-null object\n",
      "market_code      95124 non-null object\n",
      "zone             95124 non-null object\n",
      "markets_name     95124 non-null object\n",
      "order_date       95124 non-null object\n",
      "cy_date          95124 non-null object\n",
      "year             95124 non-null int64\n",
      "month_name       95124 non-null object\n",
      "date_yy_mmm      95124 non-null object\n",
      "year.1           95124 non-null int64\n",
      "sales_amount     95124 non-null int64\n",
      "sales_qty        95124 non-null int64\n",
      "currency         95124 non-null object\n",
      "product_type     95124 non-null object\n",
      "dtypes: int64(4), object(13)\n",
      "memory usage: 12.3+ MB\n"
     ]
    }
   ],
   "source": [
    "sales.info()"
   ]
  },
  {
   "cell_type": "code",
   "execution_count": 5,
   "metadata": {},
   "outputs": [
    {
     "data": {
      "text/html": [
       "<div>\n",
       "<style scoped>\n",
       "    .dataframe tbody tr th:only-of-type {\n",
       "        vertical-align: middle;\n",
       "    }\n",
       "\n",
       "    .dataframe tbody tr th {\n",
       "        vertical-align: top;\n",
       "    }\n",
       "\n",
       "    .dataframe thead th {\n",
       "        text-align: right;\n",
       "    }\n",
       "</style>\n",
       "<table border=\"1\" class=\"dataframe\">\n",
       "  <thead>\n",
       "    <tr style=\"text-align: right;\">\n",
       "      <th></th>\n",
       "      <th>year</th>\n",
       "      <th>year.1</th>\n",
       "      <th>sales_amount</th>\n",
       "      <th>sales_qty</th>\n",
       "    </tr>\n",
       "  </thead>\n",
       "  <tbody>\n",
       "    <tr>\n",
       "      <th>count</th>\n",
       "      <td>95124.000000</td>\n",
       "      <td>95124.000000</td>\n",
       "      <td>9.512400e+04</td>\n",
       "      <td>95124.000000</td>\n",
       "    </tr>\n",
       "    <tr>\n",
       "      <th>mean</th>\n",
       "      <td>2018.549588</td>\n",
       "      <td>2018.549588</td>\n",
       "      <td>5.441366e+03</td>\n",
       "      <td>21.279667</td>\n",
       "    </tr>\n",
       "    <tr>\n",
       "      <th>std</th>\n",
       "      <td>0.854359</td>\n",
       "      <td>0.854359</td>\n",
       "      <td>2.339846e+04</td>\n",
       "      <td>142.386853</td>\n",
       "    </tr>\n",
       "    <tr>\n",
       "      <th>min</th>\n",
       "      <td>2017.000000</td>\n",
       "      <td>2017.000000</td>\n",
       "      <td>-1.000000e+00</td>\n",
       "      <td>1.000000</td>\n",
       "    </tr>\n",
       "    <tr>\n",
       "      <th>25%</th>\n",
       "      <td>2018.000000</td>\n",
       "      <td>2018.000000</td>\n",
       "      <td>1.900000e+02</td>\n",
       "      <td>1.000000</td>\n",
       "    </tr>\n",
       "    <tr>\n",
       "      <th>50%</th>\n",
       "      <td>2019.000000</td>\n",
       "      <td>2019.000000</td>\n",
       "      <td>5.830000e+02</td>\n",
       "      <td>2.000000</td>\n",
       "    </tr>\n",
       "    <tr>\n",
       "      <th>75%</th>\n",
       "      <td>2019.000000</td>\n",
       "      <td>2019.000000</td>\n",
       "      <td>3.097000e+03</td>\n",
       "      <td>10.000000</td>\n",
       "    </tr>\n",
       "    <tr>\n",
       "      <th>max</th>\n",
       "      <td>2020.000000</td>\n",
       "      <td>2020.000000</td>\n",
       "      <td>1.510944e+06</td>\n",
       "      <td>14049.000000</td>\n",
       "    </tr>\n",
       "  </tbody>\n",
       "</table>\n",
       "</div>"
      ],
      "text/plain": [
       "               year        year.1  sales_amount     sales_qty\n",
       "count  95124.000000  95124.000000  9.512400e+04  95124.000000\n",
       "mean    2018.549588   2018.549588  5.441366e+03     21.279667\n",
       "std        0.854359      0.854359  2.339846e+04    142.386853\n",
       "min     2017.000000   2017.000000 -1.000000e+00      1.000000\n",
       "25%     2018.000000   2018.000000  1.900000e+02      1.000000\n",
       "50%     2019.000000   2019.000000  5.830000e+02      2.000000\n",
       "75%     2019.000000   2019.000000  3.097000e+03     10.000000\n",
       "max     2020.000000   2020.000000  1.510944e+06  14049.000000"
      ]
     },
     "execution_count": 5,
     "metadata": {},
     "output_type": "execute_result"
    }
   ],
   "source": [
    "sales.describe()"
   ]
  },
  {
   "cell_type": "code",
   "execution_count": 7,
   "metadata": {},
   "outputs": [
    {
     "data": {
      "text/plain": [
       "(95124, 17)"
      ]
     },
     "execution_count": 7,
     "metadata": {},
     "output_type": "execute_result"
    }
   ],
   "source": [
    "sales.shape"
   ]
  },
  {
   "cell_type": "code",
   "execution_count": 8,
   "metadata": {},
   "outputs": [
    {
     "data": {
      "text/plain": [
       "product_code     0\n",
       "customer_code    0\n",
       "custmer_name     0\n",
       "customer_type    0\n",
       "market_code      0\n",
       "zone             0\n",
       "markets_name     0\n",
       "order_date       0\n",
       "cy_date          0\n",
       "year             0\n",
       "month_name       0\n",
       "date_yy_mmm      0\n",
       "year.1           0\n",
       "sales_amount     0\n",
       "sales_qty        0\n",
       "currency         0\n",
       "product_type     0\n",
       "dtype: int64"
      ]
     },
     "execution_count": 8,
     "metadata": {},
     "output_type": "execute_result"
    }
   ],
   "source": [
    "sales.isnull().sum()"
   ]
  },
  {
   "cell_type": "code",
   "execution_count": 9,
   "metadata": {},
   "outputs": [
    {
     "data": {
      "text/plain": [
       "0"
      ]
     },
     "execution_count": 9,
     "metadata": {},
     "output_type": "execute_result"
    }
   ],
   "source": [
    "sum(sales.duplicated())"
   ]
  },
  {
   "cell_type": "markdown",
   "metadata": {},
   "source": [
    "### What is the total sales amount and quantity for each customer type?"
   ]
  },
  {
   "cell_type": "code",
   "execution_count": 13,
   "metadata": {},
   "outputs": [
    {
     "data": {
      "text/plain": [
       "customer_type\n",
       "Brick & Mortar    382396480\n",
       "E-Commerce        135208047\n",
       "Name: sales_amount, dtype: int64"
      ]
     },
     "execution_count": 13,
     "metadata": {},
     "output_type": "execute_result"
    }
   ],
   "source": [
    "sales.groupby('customer_type')['sales_amount'].sum()"
   ]
  },
  {
   "cell_type": "code",
   "execution_count": 14,
   "metadata": {},
   "outputs": [
    {
     "data": {
      "text/plain": [
       "customer_type\n",
       "Brick & Mortar    1573623\n",
       "E-Commerce         450584\n",
       "Name: sales_qty, dtype: int64"
      ]
     },
     "execution_count": 14,
     "metadata": {},
     "output_type": "execute_result"
    }
   ],
   "source": [
    "sales.groupby('customer_type')['sales_qty'].sum()"
   ]
  },
  {
   "cell_type": "markdown",
   "metadata": {},
   "source": [
    "### What is the total sales amount for each market and zone?"
   ]
  },
  {
   "cell_type": "code",
   "execution_count": 15,
   "metadata": {},
   "outputs": [
    {
     "data": {
      "text/plain": [
       "markets_name\n",
       "Ahmedabad        67291028\n",
       "Bengaluru          329740\n",
       "Bhopal           31663807\n",
       "Bhubaneshwar       893351\n",
       "Chennai           9252311\n",
       "Delhi NCR       243840918\n",
       "Hyderabad         7436823\n",
       "Kanpur            6746623\n",
       "Kochi            17455980\n",
       "Lucknow            955850\n",
       "Mumbai           81804809\n",
       "Nagpur           46349077\n",
       "Patna             1804688\n",
       "Surat             1779522\n",
       "Name: sales_amount, dtype: int64"
      ]
     },
     "execution_count": 15,
     "metadata": {},
     "output_type": "execute_result"
    }
   ],
   "source": [
    "sales.groupby('markets_name')['sales_amount'].sum()"
   ]
  },
  {
   "cell_type": "code",
   "execution_count": 16,
   "metadata": {},
   "outputs": [
    {
     "data": {
      "text/plain": [
       "zone\n",
       "Central    159817693\n",
       "North      322418629\n",
       "South       35368205\n",
       "Name: sales_amount, dtype: int64"
      ]
     },
     "execution_count": 16,
     "metadata": {},
     "output_type": "execute_result"
    }
   ],
   "source": [
    "sales.groupby('zone')['sales_amount'].sum()"
   ]
  },
  {
   "cell_type": "markdown",
   "metadata": {},
   "source": [
    "### How does the sales amount vary by year?"
   ]
  },
  {
   "cell_type": "code",
   "execution_count": 24,
   "metadata": {},
   "outputs": [],
   "source": [
    "yearly_sales = sales.groupby('year')['sales_amount'].sum()"
   ]
  },
  {
   "cell_type": "code",
   "execution_count": 33,
   "metadata": {},
   "outputs": [
    {
     "data": {
      "text/plain": [
       "year\n",
       "2017     44664782\n",
       "2018    213695141\n",
       "2019    181838907\n",
       "2020     77405697\n",
       "Name: sales_amount, dtype: int64"
      ]
     },
     "execution_count": 33,
     "metadata": {},
     "output_type": "execute_result"
    }
   ],
   "source": [
    "yearly_sales"
   ]
  },
  {
   "cell_type": "code",
   "execution_count": 30,
   "metadata": {},
   "outputs": [
    {
     "data": {
      "text/plain": [
       "year\n",
       "2018    213695141\n",
       "2019    181838907\n",
       "2020     77405697\n",
       "2017     44664782\n",
       "Name: sales_amount, dtype: int64"
      ]
     },
     "execution_count": 30,
     "metadata": {},
     "output_type": "execute_result"
    }
   ],
   "source": [
    "yearly_sales.sort_values(ascending=False)"
   ]
  },
  {
   "cell_type": "code",
   "execution_count": 38,
   "metadata": {},
   "outputs": [
    {
     "data": {
      "text/plain": [
       "array([ 44664782, 213695141, 181838907,  77405697], dtype=int64)"
      ]
     },
     "execution_count": 38,
     "metadata": {},
     "output_type": "execute_result"
    }
   ],
   "source": [
    "yearly_sales_values = sales.groupby('year')['sales_amount'].sum().values\n",
    "yearly_sales_values"
   ]
  },
  {
   "cell_type": "code",
   "execution_count": 40,
   "metadata": {},
   "outputs": [
    {
     "data": {
      "text/plain": [
       "Int64Index([2017, 2018, 2019, 2020], dtype='int64', name='year')"
      ]
     },
     "execution_count": 40,
     "metadata": {},
     "output_type": "execute_result"
    }
   ],
   "source": [
    "year = sales.groupby('year')['sales_amount'].sum().index\n",
    "year"
   ]
  },
  {
   "cell_type": "code",
   "execution_count": 67,
   "metadata": {
    "scrolled": true
   },
   "outputs": [
    {
     "data": {
      "image/png": "[encoded data removed]",
      "text/plain": [
       "<Figure size 432x288 with 1 Axes>"
      ]
     },
     "metadata": {
      "needs_background": "light"
     },
     "output_type": "display_data"
    }
   ],
   "source": [
    "yearly_sales.plot(kind='bar')\n",
    "plt.bar(x=year, height=yearly_sales_values)\n",
    "plt.title('Sales Amount By Year')\n",
    "plt.xlabel('Years')\n",
    "plt.ylabel('Sales')\n",
    "for i in range(len(yearly_sales_values)):\n",
    "    plt.text(i, yearly_sales_values[i], yearly_sales_values[i], ha='center', va='bottom', fontsize='10')\n",
    "plt.show()"
   ]
  },
  {
   "cell_type": "markdown",
   "metadata": {},
   "source": [
    "### What is the total sales amount for each product type and market?"
   ]
  },
  {
   "cell_type": "code",
   "execution_count": 68,
   "metadata": {},
   "outputs": [
    {
     "data": {
      "text/plain": [
       "product_type\n",
       "Distribution\\r    146039576\n",
       "Own Brand\\r       371564951\n",
       "Name: sales_amount, dtype: int64"
      ]
     },
     "execution_count": 68,
     "metadata": {},
     "output_type": "execute_result"
    }
   ],
   "source": [
    "sales.groupby('product_type')['sales_amount'].sum()"
   ]
  },
  {
   "cell_type": "code",
   "execution_count": 70,
   "metadata": {},
   "outputs": [
    {
     "data": {
      "text/plain": [
       "markets_name\n",
       "Ahmedabad        67291028\n",
       "Bengaluru          329740\n",
       "Bhopal           31663807\n",
       "Bhubaneshwar       893351\n",
       "Chennai           9252311\n",
       "Delhi NCR       243840918\n",
       "Hyderabad         7436823\n",
       "Kanpur            6746623\n",
       "Kochi            17455980\n",
       "Lucknow            955850\n",
       "Mumbai           81804809\n",
       "Nagpur           46349077\n",
       "Patna             1804688\n",
       "Surat             1779522\n",
       "Name: sales_amount, dtype: int64"
      ]
     },
     "execution_count": 70,
     "metadata": {},
     "output_type": "execute_result"
    }
   ],
   "source": [
    "sales.groupby('markets_name')['sales_amount'].sum()"
   ]
  },
  {
   "cell_type": "code",
   "execution_count": 71,
   "metadata": {},
   "outputs": [
    {
     "data": {
      "text/plain": [
       "Index(['Ahmedabad', 'Bengaluru', 'Bhopal', 'Bhubaneshwar', 'Chennai',\n",
       "       'Delhi NCR', 'Hyderabad', 'Kanpur', 'Kochi', 'Lucknow', 'Mumbai',\n",
       "       'Nagpur', 'Patna', 'Surat'],\n",
       "      dtype='object', name='markets_name')"
      ]
     },
     "execution_count": 71,
     "metadata": {},
     "output_type": "execute_result"
    }
   ],
   "source": [
    "cities = sales.groupby('markets_name')['sales_amount'].sum().index\n",
    "cities"
   ]
  },
  {
   "cell_type": "code",
   "execution_count": 72,
   "metadata": {},
   "outputs": [
    {
     "data": {
      "text/plain": [
       "array([ 67291028,    329740,  31663807,    893351,   9252311, 243840918,\n",
       "         7436823,   6746623,  17455980,    955850,  81804809,  46349077,\n",
       "         1804688,   1779522], dtype=int64)"
      ]
     },
     "execution_count": 72,
     "metadata": {},
     "output_type": "execute_result"
    }
   ],
   "source": [
    "cities_sales = sales.groupby('markets_name')['sales_amount'].sum().values\n",
    "cities_sales"
   ]
  },
  {
   "cell_type": "code",
   "execution_count": 79,
   "metadata": {},
   "outputs": [
    {
     "data": {
      "image/png": "[encoded data removed]",
      "text/plain": [
       "<Figure size 864x720 with 1 Axes>"
      ]
     },
     "metadata": {
      "needs_background": "light"
     },
     "output_type": "display_data"
    }
   ],
   "source": [
    "plt.figure(figsize=(12,10))\n",
    "plt.bar(x=cities, height=cities_sales)\n",
    "plt.xticks(rotation=90)\n",
    "plt.title('Sales Amount By Market Type')\n",
    "plt.xlabel('Cities')\n",
    "plt.ylabel('Sales')\n",
    "for i in range(len(cities_sales)):\n",
    "    plt.text(i, cities_sales[i], cities_sales[i], ha='center', va='bottom', fontsize='10')\n",
    "plt.show()"
   ]
  },
  {
   "cell_type": "markdown",
   "metadata": {},
   "source": [
    "### Which product types have the highest and lowest sales amount?"
   ]
  },
  {
   "cell_type": "code",
   "execution_count": 80,
   "metadata": {},
   "outputs": [
    {
     "data": {
      "text/html": [
       "<div>\n",
       "<style scoped>\n",
       "    .dataframe tbody tr th:only-of-type {\n",
       "        vertical-align: middle;\n",
       "    }\n",
       "\n",
       "    .dataframe tbody tr th {\n",
       "        vertical-align: top;\n",
       "    }\n",
       "\n",
       "    .dataframe thead th {\n",
       "        text-align: right;\n",
       "    }\n",
       "</style>\n",
       "<table border=\"1\" class=\"dataframe\">\n",
       "  <thead>\n",
       "    <tr style=\"text-align: right;\">\n",
       "      <th></th>\n",
       "      <th>product_code</th>\n",
       "      <th>customer_code</th>\n",
       "      <th>custmer_name</th>\n",
       "      <th>customer_type</th>\n",
       "      <th>market_code</th>\n",
       "      <th>zone</th>\n",
       "      <th>markets_name</th>\n",
       "      <th>order_date</th>\n",
       "      <th>cy_date</th>\n",
       "      <th>year</th>\n",
       "      <th>month_name</th>\n",
       "      <th>date_yy_mmm</th>\n",
       "      <th>year.1</th>\n",
       "      <th>sales_amount</th>\n",
       "      <th>sales_qty</th>\n",
       "      <th>currency</th>\n",
       "      <th>product_type</th>\n",
       "    </tr>\n",
       "  </thead>\n",
       "  <tbody>\n",
       "    <tr>\n",
       "      <th>0</th>\n",
       "      <td>Prod001</td>\n",
       "      <td>Cus001</td>\n",
       "      <td>Surge Stores</td>\n",
       "      <td>Brick &amp; Mortar</td>\n",
       "      <td>Mark001</td>\n",
       "      <td>South</td>\n",
       "      <td>Chennai</td>\n",
       "      <td>10-10-2017</td>\n",
       "      <td>01-10-2017</td>\n",
       "      <td>2017</td>\n",
       "      <td>October</td>\n",
       "      <td>17-Oct\\r</td>\n",
       "      <td>2017</td>\n",
       "      <td>41241</td>\n",
       "      <td>100</td>\n",
       "      <td>INR</td>\n",
       "      <td>Own Brand\\r</td>\n",
       "    </tr>\n",
       "    <tr>\n",
       "      <th>1</th>\n",
       "      <td>Prod001</td>\n",
       "      <td>Cus002</td>\n",
       "      <td>Nomad Stores</td>\n",
       "      <td>Brick &amp; Mortar</td>\n",
       "      <td>Mark002</td>\n",
       "      <td>Central</td>\n",
       "      <td>Mumbai</td>\n",
       "      <td>08-05-2018</td>\n",
       "      <td>01-05-2018</td>\n",
       "      <td>2018</td>\n",
       "      <td>May</td>\n",
       "      <td>18-May\\r</td>\n",
       "      <td>2018</td>\n",
       "      <td>-1</td>\n",
       "      <td>3</td>\n",
       "      <td>INR</td>\n",
       "      <td>Own Brand\\r</td>\n",
       "    </tr>\n",
       "    <tr>\n",
       "      <th>2</th>\n",
       "      <td>Prod002</td>\n",
       "      <td>Cus003</td>\n",
       "      <td>Excel Stores</td>\n",
       "      <td>Brick &amp; Mortar</td>\n",
       "      <td>Mark003</td>\n",
       "      <td>North</td>\n",
       "      <td>Ahmedabad</td>\n",
       "      <td>06-04-2018</td>\n",
       "      <td>01-04-2018</td>\n",
       "      <td>2018</td>\n",
       "      <td>April</td>\n",
       "      <td>18-Apr\\r</td>\n",
       "      <td>2018</td>\n",
       "      <td>875</td>\n",
       "      <td>1</td>\n",
       "      <td>INR</td>\n",
       "      <td>Own Brand\\r</td>\n",
       "    </tr>\n",
       "    <tr>\n",
       "      <th>3</th>\n",
       "      <td>Prod002</td>\n",
       "      <td>Cus003</td>\n",
       "      <td>Excel Stores</td>\n",
       "      <td>Brick &amp; Mortar</td>\n",
       "      <td>Mark003</td>\n",
       "      <td>North</td>\n",
       "      <td>Ahmedabad</td>\n",
       "      <td>11-04-2018</td>\n",
       "      <td>01-04-2018</td>\n",
       "      <td>2018</td>\n",
       "      <td>April</td>\n",
       "      <td>18-Apr\\r</td>\n",
       "      <td>2018</td>\n",
       "      <td>583</td>\n",
       "      <td>1</td>\n",
       "      <td>INR</td>\n",
       "      <td>Own Brand\\r</td>\n",
       "    </tr>\n",
       "    <tr>\n",
       "      <th>4</th>\n",
       "      <td>Prod002</td>\n",
       "      <td>Cus004</td>\n",
       "      <td>Surface Stores</td>\n",
       "      <td>Brick &amp; Mortar</td>\n",
       "      <td>Mark003</td>\n",
       "      <td>North</td>\n",
       "      <td>Ahmedabad</td>\n",
       "      <td>18-06-2018</td>\n",
       "      <td>01-06-2018</td>\n",
       "      <td>2018</td>\n",
       "      <td>June</td>\n",
       "      <td>18-Jun\\r</td>\n",
       "      <td>2018</td>\n",
       "      <td>7176</td>\n",
       "      <td>6</td>\n",
       "      <td>INR</td>\n",
       "      <td>Own Brand\\r</td>\n",
       "    </tr>\n",
       "  </tbody>\n",
       "</table>\n",
       "</div>"
      ],
      "text/plain": [
       "  product_code customer_code    custmer_name   customer_type market_code  \\\n",
       "0      Prod001        Cus001    Surge Stores  Brick & Mortar     Mark001   \n",
       "1      Prod001        Cus002    Nomad Stores  Brick & Mortar     Mark002   \n",
       "2      Prod002        Cus003    Excel Stores  Brick & Mortar     Mark003   \n",
       "3      Prod002        Cus003    Excel Stores  Brick & Mortar     Mark003   \n",
       "4      Prod002        Cus004  Surface Stores  Brick & Mortar     Mark003   \n",
       "\n",
       "      zone markets_name  order_date     cy_date  year month_name date_yy_mmm  \\\n",
       "0    South      Chennai  10-10-2017  01-10-2017  2017    October    17-Oct\\r   \n",
       "1  Central       Mumbai  08-05-2018  01-05-2018  2018        May    18-May\\r   \n",
       "2    North    Ahmedabad  06-04-2018  01-04-2018  2018      April    18-Apr\\r   \n",
       "3    North    Ahmedabad  11-04-2018  01-04-2018  2018      April    18-Apr\\r   \n",
       "4    North    Ahmedabad  18-06-2018  01-06-2018  2018       June    18-Jun\\r   \n",
       "\n",
       "   year.1  sales_amount  sales_qty currency product_type  \n",
       "0    2017         41241        100      INR  Own Brand\\r  \n",
       "1    2018            -1          3      INR  Own Brand\\r  \n",
       "2    2018           875          1      INR  Own Brand\\r  \n",
       "3    2018           583          1      INR  Own Brand\\r  \n",
       "4    2018          7176          6      INR  Own Brand\\r  "
      ]
     },
     "execution_count": 80,
     "metadata": {},
     "output_type": "execute_result"
    }
   ],
   "source": [
    "sales.head()"
   ]
  },
  {
   "cell_type": "code",
   "execution_count": 89,
   "metadata": {},
   "outputs": [
    {
     "data": {
      "text/html": [
       "<div>\n",
       "<style scoped>\n",
       "    .dataframe tbody tr th:only-of-type {\n",
       "        vertical-align: middle;\n",
       "    }\n",
       "\n",
       "    .dataframe tbody tr th {\n",
       "        vertical-align: top;\n",
       "    }\n",
       "\n",
       "    .dataframe thead th {\n",
       "        text-align: right;\n",
       "    }\n",
       "</style>\n",
       "<table border=\"1\" class=\"dataframe\">\n",
       "  <thead>\n",
       "    <tr style=\"text-align: right;\">\n",
       "      <th></th>\n",
       "      <th>product_type</th>\n",
       "      <th>sales_amount</th>\n",
       "    </tr>\n",
       "  </thead>\n",
       "  <tbody>\n",
       "    <tr>\n",
       "      <th>3592</th>\n",
       "      <td>Own Brand\\r</td>\n",
       "      <td>1510944</td>\n",
       "    </tr>\n",
       "    <tr>\n",
       "      <th>21204</th>\n",
       "      <td>Distribution\\r</td>\n",
       "      <td>1477394</td>\n",
       "    </tr>\n",
       "    <tr>\n",
       "      <th>3667</th>\n",
       "      <td>Own Brand\\r</td>\n",
       "      <td>1283875</td>\n",
       "    </tr>\n",
       "    <tr>\n",
       "      <th>2204</th>\n",
       "      <td>Own Brand\\r</td>\n",
       "      <td>1283875</td>\n",
       "    </tr>\n",
       "    <tr>\n",
       "      <th>21178</th>\n",
       "      <td>Distribution\\r</td>\n",
       "      <td>1235347</td>\n",
       "    </tr>\n",
       "  </tbody>\n",
       "</table>\n",
       "</div>"
      ],
      "text/plain": [
       "         product_type  sales_amount\n",
       "3592      Own Brand\\r       1510944\n",
       "21204  Distribution\\r       1477394\n",
       "3667      Own Brand\\r       1283875\n",
       "2204      Own Brand\\r       1283875\n",
       "21178  Distribution\\r       1235347"
      ]
     },
     "execution_count": 89,
     "metadata": {},
     "output_type": "execute_result"
    }
   ],
   "source": [
    "# Highest Sales\n",
    "sales[['product_type','sales_amount']].sort_values(by='sales_amount', ascending=False).head()"
   ]
  },
  {
   "cell_type": "code",
   "execution_count": 90,
   "metadata": {},
   "outputs": [
    {
     "data": {
      "text/html": [
       "<div>\n",
       "<style scoped>\n",
       "    .dataframe tbody tr th:only-of-type {\n",
       "        vertical-align: middle;\n",
       "    }\n",
       "\n",
       "    .dataframe tbody tr th {\n",
       "        vertical-align: top;\n",
       "    }\n",
       "\n",
       "    .dataframe thead th {\n",
       "        text-align: right;\n",
       "    }\n",
       "</style>\n",
       "<table border=\"1\" class=\"dataframe\">\n",
       "  <thead>\n",
       "    <tr style=\"text-align: right;\">\n",
       "      <th></th>\n",
       "      <th>product_type</th>\n",
       "      <th>sales_amount</th>\n",
       "    </tr>\n",
       "  </thead>\n",
       "  <tbody>\n",
       "    <tr>\n",
       "      <th>282</th>\n",
       "      <td>Own Brand\\r</td>\n",
       "      <td>-1</td>\n",
       "    </tr>\n",
       "    <tr>\n",
       "      <th>1</th>\n",
       "      <td>Own Brand\\r</td>\n",
       "      <td>-1</td>\n",
       "    </tr>\n",
       "    <tr>\n",
       "      <th>48220</th>\n",
       "      <td>Distribution\\r</td>\n",
       "      <td>0</td>\n",
       "    </tr>\n",
       "    <tr>\n",
       "      <th>2203</th>\n",
       "      <td>Own Brand\\r</td>\n",
       "      <td>0</td>\n",
       "    </tr>\n",
       "    <tr>\n",
       "      <th>48332</th>\n",
       "      <td>Own Brand\\r</td>\n",
       "      <td>0</td>\n",
       "    </tr>\n",
       "    <tr>\n",
       "      <th>78755</th>\n",
       "      <td>Distribution\\r</td>\n",
       "      <td>0</td>\n",
       "    </tr>\n",
       "    <tr>\n",
       "      <th>48488</th>\n",
       "      <td>Own Brand\\r</td>\n",
       "      <td>0</td>\n",
       "    </tr>\n",
       "    <tr>\n",
       "      <th>48530</th>\n",
       "      <td>Own Brand\\r</td>\n",
       "      <td>0</td>\n",
       "    </tr>\n",
       "  </tbody>\n",
       "</table>\n",
       "</div>"
      ],
      "text/plain": [
       "         product_type  sales_amount\n",
       "282       Own Brand\\r            -1\n",
       "1         Own Brand\\r            -1\n",
       "48220  Distribution\\r             0\n",
       "2203      Own Brand\\r             0\n",
       "48332     Own Brand\\r             0\n",
       "78755  Distribution\\r             0\n",
       "48488     Own Brand\\r             0\n",
       "48530     Own Brand\\r             0"
      ]
     },
     "execution_count": 90,
     "metadata": {},
     "output_type": "execute_result"
    }
   ],
   "source": [
    "# Lowest Sales\n",
    "sales[['product_type', 'sales_amount']].sort_values(by='sales_amount')[:8]"
   ]
  },
  {
   "cell_type": "code",
   "execution_count": null,
   "metadata": {},
   "outputs": [],
   "source": []
  }
 ],
 "metadata": {
  "kernelspec": {
   "display_name": "Python 3",
   "language": "python",
   "name": "python3"
  },
  "language_info": {
   "codemirror_mode": {
    "name": "ipython",
    "version": 3
   },
   "file_extension": ".py",
   "mimetype": "text/x-python",
   "name": "python",
   "nbconvert_exporter": "python",
   "pygments_lexer": "ipython3",
   "version": "3.7.1"
  }
 },
 "nbformat": 4,
 "nbformat_minor": 2
}
